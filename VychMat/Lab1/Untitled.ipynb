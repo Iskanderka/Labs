{
 "cells": [
  {
   "cell_type": "code",
   "execution_count": 7,
   "metadata": {},
   "outputs": [
    {
     "name": "stdout",
     "output_type": "stream",
     "text": [
      "Введите начальные приближения: 1 1 1\n",
      "{'x': 1, 'y': 1, 'z': 1}\n"
     ]
    }
   ],
   "source": [
    "inputs = input(\"Введите начальные приближения: \")\n",
    "inputs = inputs.split(\" \")\n",
    "starts = {\"x\": int(inputs[0]), \"y\": int(inputs[1]), \"z\": int(inputs[2])}\n",
    "print(starts)"
   ]
  },
  {
   "cell_type": "code",
   "execution_count": null,
   "metadata": {},
   "outputs": [],
   "source": []
  }
 ],
 "metadata": {
  "kernelspec": {
   "display_name": "Python 3",
   "language": "python",
   "name": "python3"
  },
  "language_info": {
   "codemirror_mode": {
    "name": "ipython",
    "version": 3
   },
   "file_extension": ".py",
   "mimetype": "text/x-python",
   "name": "python",
   "nbconvert_exporter": "python",
   "pygments_lexer": "ipython3",
   "version": "3.8.5"
  }
 },
 "nbformat": 4,
 "nbformat_minor": 4
}
